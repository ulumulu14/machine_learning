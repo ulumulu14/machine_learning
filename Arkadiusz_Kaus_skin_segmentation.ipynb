{
 "cells": [
  {
   "cell_type": "markdown",
   "metadata": {},
   "source": [
    "# Skin segmentation "
   ]
  },
  {
   "cell_type": "markdown",
   "metadata": {},
   "source": [
    "In this assignement you will train classifier to assign colors to skin or no skin classes. The data is taken from [Skin Segmentation Data Set](http://archive.ics.uci.edu/ml/datasets/Skin+Segmentation#) in the UCI Machine Learning repository."
   ]
  },
  {
   "cell_type": "markdown",
   "metadata": {},
   "source": [
    "The  data is in a plain text format and contains four columns. First three contain RGB color data  represented as integers in the range 0-255, and the last column is an integer label  with 1 representing skin and 2 representing no skin. This file we can load directly into a numpy array:"
   ]
  },
  {
   "cell_type": "code",
   "execution_count": 4,
   "metadata": {},
   "outputs": [
    {
     "ename": "ImportError",
     "evalue": "cannot import name 'plot_confusion_matrix' from 'sklearn.metrics' (/home/arek/anaconda3/lib/python3.7/site-packages/sklearn/metrics/__init__.py)",
     "output_type": "error",
     "traceback": [
      "\u001b[0;31m---------------------------------------------------------------------------\u001b[0m",
      "\u001b[0;31mImportError\u001b[0m                               Traceback (most recent call last)",
      "\u001b[0;32m<ipython-input-4-0bce9498030b>\u001b[0m in \u001b[0;36m<module>\u001b[0;34m\u001b[0m\n\u001b[1;32m      9\u001b[0m \u001b[0;32mfrom\u001b[0m \u001b[0msklearn\u001b[0m\u001b[0;34m.\u001b[0m\u001b[0mmetrics\u001b[0m \u001b[0;32mimport\u001b[0m \u001b[0mroc_auc_score\u001b[0m\u001b[0;34m\u001b[0m\u001b[0;34m\u001b[0m\u001b[0m\n\u001b[1;32m     10\u001b[0m \u001b[0;32mfrom\u001b[0m \u001b[0msklearn\u001b[0m\u001b[0;34m.\u001b[0m\u001b[0mmetrics\u001b[0m \u001b[0;32mimport\u001b[0m \u001b[0mroc_curve\u001b[0m\u001b[0;34m\u001b[0m\u001b[0;34m\u001b[0m\u001b[0m\n\u001b[0;32m---> 11\u001b[0;31m \u001b[0;32mfrom\u001b[0m \u001b[0msklearn\u001b[0m\u001b[0;34m.\u001b[0m\u001b[0mmetrics\u001b[0m \u001b[0;32mimport\u001b[0m \u001b[0mplot_confusion_matrix\u001b[0m\u001b[0;34m\u001b[0m\u001b[0;34m\u001b[0m\u001b[0m\n\u001b[0m\u001b[1;32m     12\u001b[0m \u001b[0;32mfrom\u001b[0m \u001b[0mimblearn\u001b[0m\u001b[0;34m.\u001b[0m\u001b[0mover_sampling\u001b[0m \u001b[0;32mimport\u001b[0m \u001b[0mRandomOverSampler\u001b[0m\u001b[0;34m\u001b[0m\u001b[0;34m\u001b[0m\u001b[0m\n\u001b[1;32m     13\u001b[0m \u001b[0;32mimport\u001b[0m \u001b[0mmatplotlib\u001b[0m\u001b[0;34m.\u001b[0m\u001b[0mpyplot\u001b[0m \u001b[0;32mas\u001b[0m \u001b[0mplt\u001b[0m\u001b[0;34m\u001b[0m\u001b[0;34m\u001b[0m\u001b[0m\n",
      "\u001b[0;31mImportError\u001b[0m: cannot import name 'plot_confusion_matrix' from 'sklearn.metrics' (/home/arek/anaconda3/lib/python3.7/site-packages/sklearn/metrics/__init__.py)"
     ]
    }
   ],
   "source": [
    "import numpy as np\n",
    "import pandas as pd\n",
    "from sklearn.discriminant_analysis import LinearDiscriminantAnalysis\n",
    "from sklearn.discriminant_analysis import QuadraticDiscriminantAnalysis\n",
    "from sklearn.naive_bayes import GaussianNB\n",
    "from sklearn.model_selection import train_test_split\n",
    "from sklearn.metrics import precision_score\n",
    "from sklearn.metrics import f1_score\n",
    "from sklearn.metrics import roc_auc_score\n",
    "from sklearn.metrics import roc_curve\n",
    "from sklearn.metrics import plot_confusion_matrix\n",
    "from imblearn.over_sampling import RandomOverSampler\n",
    "import matplotlib.pyplot as plt"
   ]
  },
  {
   "cell_type": "code",
   "execution_count": 5,
   "metadata": {},
   "outputs": [],
   "source": [
    "data = np.loadtxt('Skin_NonSkin.txt')"
   ]
  },
  {
   "cell_type": "code",
   "execution_count": 42,
   "metadata": {},
   "outputs": [
    {
     "data": {
      "text/plain": [
       "array([[ 74.,  85., 123.,   1.],\n",
       "       [ 73.,  84., 122.,   1.],\n",
       "       [ 72.,  83., 121.,   1.],\n",
       "       ...,\n",
       "       [163., 162., 112.,   2.],\n",
       "       [163., 162., 112.,   2.],\n",
       "       [255., 255., 255.,   2.]])"
      ]
     },
     "execution_count": 42,
     "metadata": {},
     "output_type": "execute_result"
    }
   ],
   "source": [
    "data"
   ]
  },
  {
   "cell_type": "code",
   "execution_count": 43,
   "metadata": {},
   "outputs": [],
   "source": [
    "rgb  = data[:,:3]\n",
    "lbl = data[:,3].astype('int32') # some function expect labels to be integers"
   ]
  },
  {
   "cell_type": "markdown",
   "metadata": {},
   "source": [
    "We see that the classes are not balanced:"
   ]
  },
  {
   "cell_type": "code",
   "execution_count": 44,
   "metadata": {},
   "outputs": [
    {
     "data": {
      "text/plain": [
       "array([     0,  50859, 194198])"
      ]
     },
     "execution_count": 44,
     "metadata": {},
     "output_type": "execute_result"
    }
   ],
   "source": [
    "np.bincount(lbl)"
   ]
  },
  {
   "cell_type": "code",
   "execution_count": 9,
   "metadata": {},
   "outputs": [],
   "source": [
    "#df = pd.DataFrame(data, columns = ['R', 'G', 'B', 'Skin'])"
   ]
  },
  {
   "cell_type": "code",
   "execution_count": 45,
   "metadata": {},
   "outputs": [
    {
     "data": {
      "text/html": [
       "<div>\n",
       "<style scoped>\n",
       "    .dataframe tbody tr th:only-of-type {\n",
       "        vertical-align: middle;\n",
       "    }\n",
       "\n",
       "    .dataframe tbody tr th {\n",
       "        vertical-align: top;\n",
       "    }\n",
       "\n",
       "    .dataframe thead th {\n",
       "        text-align: right;\n",
       "    }\n",
       "</style>\n",
       "<table border=\"1\" class=\"dataframe\">\n",
       "  <thead>\n",
       "    <tr style=\"text-align: right;\">\n",
       "      <th></th>\n",
       "      <th>R</th>\n",
       "      <th>G</th>\n",
       "      <th>B</th>\n",
       "      <th>Skin</th>\n",
       "    </tr>\n",
       "  </thead>\n",
       "  <tbody>\n",
       "    <tr>\n",
       "      <th>0</th>\n",
       "      <td>74.0</td>\n",
       "      <td>85.0</td>\n",
       "      <td>123.0</td>\n",
       "      <td>1</td>\n",
       "    </tr>\n",
       "    <tr>\n",
       "      <th>1</th>\n",
       "      <td>73.0</td>\n",
       "      <td>84.0</td>\n",
       "      <td>122.0</td>\n",
       "      <td>1</td>\n",
       "    </tr>\n",
       "    <tr>\n",
       "      <th>2</th>\n",
       "      <td>72.0</td>\n",
       "      <td>83.0</td>\n",
       "      <td>121.0</td>\n",
       "      <td>1</td>\n",
       "    </tr>\n",
       "    <tr>\n",
       "      <th>3</th>\n",
       "      <td>70.0</td>\n",
       "      <td>81.0</td>\n",
       "      <td>119.0</td>\n",
       "      <td>1</td>\n",
       "    </tr>\n",
       "    <tr>\n",
       "      <th>4</th>\n",
       "      <td>70.0</td>\n",
       "      <td>81.0</td>\n",
       "      <td>119.0</td>\n",
       "      <td>1</td>\n",
       "    </tr>\n",
       "  </tbody>\n",
       "</table>\n",
       "</div>"
      ],
      "text/plain": [
       "      R     G      B  Skin\n",
       "0  74.0  85.0  123.0     1\n",
       "1  73.0  84.0  122.0     1\n",
       "2  72.0  83.0  121.0     1\n",
       "3  70.0  81.0  119.0     1\n",
       "4  70.0  81.0  119.0     1"
      ]
     },
     "execution_count": 45,
     "metadata": {},
     "output_type": "execute_result"
    }
   ],
   "source": [
    "#Oversampling unbalanced classes\n",
    "ros = RandomOverSampler()\n",
    "X_resampled, y_resampled = ros.fit_resample(rgb, lbl)\n",
    "df = pd.DataFrame(X_resampled, columns = ['R', 'G', 'B'])\n",
    "y = pd.DataFrame(y_resampled, columns = ['Skin'])\n",
    "df = df.join(y)\n",
    "df.head()"
   ]
  },
  {
   "cell_type": "markdown",
   "metadata": {},
   "source": [
    "## Problem 1 "
   ]
  },
  {
   "cell_type": "markdown",
   "metadata": {},
   "source": [
    "Compare the performance of the QuadraticDiscriminantAnalysis, LinearDiscriminativeAnalysis and NaiveBayes classifiers on this set. Use the `sklearn` library when needed. Compare the confusion matrices (tpr, fpr, tnr, fnr), precision and f1_ score and auc_score, as well ROC curves. Prepare a summary table with all the numerical scores one row per classifier on one column per metric (use pandas.DataFame). Plot all  ROC curves on the same plot and label them accordingly. Assume that skin is positive and non-skin negative. "
   ]
  },
  {
   "cell_type": "markdown",
   "metadata": {},
   "source": [
    "__Hint__ as you will be repeating this it's probably a good idea  to write a python function that does all the analysis. "
   ]
  },
  {
   "cell_type": "code",
   "execution_count": 46,
   "metadata": {},
   "outputs": [],
   "source": [
    "def analize(cls, name, train_X, train_Y, test_X, test_Y):\n",
    "    fprs = tprs = thds = None\n",
    "    \n",
    "    cls.fit(train_X, train_Y)\n",
    "    #test_X = cls.transform(test_X)\n",
    "    y_pred = cls.predict(test_X)\n",
    "    \n",
    "    \n",
    "    tn, fp, fn, tp = confusion_matrix(test_Y, y_pred).ravel()\n",
    "    fprs, tprs, thds = roc_curve(test_Y, y_pred, pos_label = 1)\n",
    "\n",
    "    precision = precision_score(test_Y, y_pred)\n",
    "    f1 = f1_score(test_Y, y_pred)\n",
    "    auc = roc_auc_score(test_Y, y_pred)\n",
    "    fpr = fp / (fp + tn)\n",
    "    tpr = tp / (tp + fn)\n",
    "    tnr = 1 - fpr\n",
    "    fnr = 1 - tpr\n",
    "\n",
    "    return  pd.DataFrame({'tnr': tnr,\n",
    "                          'fnr': fnr,\n",
    "                          'fpr': fpr,\n",
    "                          'tpr': tpr,\n",
    "                          'precision' : precision,\n",
    "                          'f1' : f1,\n",
    "                          'auc' : auc\n",
    "                           }, index=[name]), fprs, tprs, thds"
   ]
  },
  {
   "cell_type": "code",
   "execution_count": 47,
   "metadata": {},
   "outputs": [],
   "source": [
    "#Train test split\n",
    "X_train, X_test, y_train, y_test = train_test_split(X_resampled, y_resampled)"
   ]
  },
  {
   "cell_type": "code",
   "execution_count": 48,
   "metadata": {},
   "outputs": [
    {
     "data": {
      "text/html": [
       "<div>\n",
       "<style scoped>\n",
       "    .dataframe tbody tr th:only-of-type {\n",
       "        vertical-align: middle;\n",
       "    }\n",
       "\n",
       "    .dataframe tbody tr th {\n",
       "        vertical-align: top;\n",
       "    }\n",
       "\n",
       "    .dataframe thead th {\n",
       "        text-align: right;\n",
       "    }\n",
       "</style>\n",
       "<table border=\"1\" class=\"dataframe\">\n",
       "  <thead>\n",
       "    <tr style=\"text-align: right;\">\n",
       "      <th></th>\n",
       "      <th>tnr</th>\n",
       "      <th>fnr</th>\n",
       "      <th>fpr</th>\n",
       "      <th>tpr</th>\n",
       "      <th>precision</th>\n",
       "      <th>f1</th>\n",
       "      <th>auc</th>\n",
       "    </tr>\n",
       "  </thead>\n",
       "  <tbody>\n",
       "    <tr>\n",
       "      <th>lda</th>\n",
       "      <td>1.000000</td>\n",
       "      <td>0.086417</td>\n",
       "      <td>0.000000</td>\n",
       "      <td>0.913583</td>\n",
       "      <td>0.920648</td>\n",
       "      <td>0.958685</td>\n",
       "      <td>0.956792</td>\n",
       "    </tr>\n",
       "    <tr>\n",
       "      <th>qda</th>\n",
       "      <td>0.994425</td>\n",
       "      <td>0.002166</td>\n",
       "      <td>0.005575</td>\n",
       "      <td>0.997834</td>\n",
       "      <td>0.997833</td>\n",
       "      <td>0.996126</td>\n",
       "      <td>0.996130</td>\n",
       "    </tr>\n",
       "    <tr>\n",
       "      <th>nb</th>\n",
       "      <td>0.834201</td>\n",
       "      <td>0.053582</td>\n",
       "      <td>0.165799</td>\n",
       "      <td>0.946418</td>\n",
       "      <td>0.939793</td>\n",
       "      <td>0.883854</td>\n",
       "      <td>0.890309</td>\n",
       "    </tr>\n",
       "  </tbody>\n",
       "</table>\n",
       "</div>"
      ],
      "text/plain": [
       "          tnr       fnr       fpr       tpr  precision        f1       auc\n",
       "lda  1.000000  0.086417  0.000000  0.913583   0.920648  0.958685  0.956792\n",
       "qda  0.994425  0.002166  0.005575  0.997834   0.997833  0.996126  0.996130\n",
       "nb   0.834201  0.053582  0.165799  0.946418   0.939793  0.883854  0.890309"
      ]
     },
     "execution_count": 48,
     "metadata": {},
     "output_type": "execute_result"
    }
   ],
   "source": [
    "#Analysis\n",
    "summary = pd.DataFrame()\n",
    "\n",
    "model_lda = LinearDiscriminantAnalysis()\n",
    "analize_lda = analize(model_lda, \"lda\", X_train, y_train, X_test, y_test)\n",
    "summary = summary.append(analize_lda[0])\n",
    "\n",
    "model_qda = QuadraticDiscriminantAnalysis()\n",
    "analize_qda = analize(model_qda, \"qda\", X_train, y_train, X_test, y_test)\n",
    "summary = summary.append(analize_qda[0])\n",
    "\n",
    "model_NB = GaussianNB()\n",
    "analize_NB = analize(model_NB, \"nb\", X_train, y_train, X_test, y_test)\n",
    "summary = summary.append(analize_NB[0])\n",
    "\n",
    "\n",
    "summary"
   ]
  },
  {
   "cell_type": "code",
   "execution_count": 49,
   "metadata": {},
   "outputs": [
    {
     "data": {
      "image/png": "[encoded data removed]",
      "text/plain": [
       "<Figure size 1008x720 with 1 Axes>"
      ]
     },
     "metadata": {
      "needs_background": "light"
     },
     "output_type": "display_data"
    }
   ],
   "source": [
    "#ROC curves\n",
    "plt.figure(figsize = (14, 10))\n",
    "plt.plot(analize_lda[2], analize_lda[1])\n",
    "plt.plot(analize_qda[2], analize_qda[1], color = 'red')\n",
    "plt.plot(analize_NB[2], analize_NB[1], color = 'green')\n",
    "plt.legend([\"lda\", \"qda\", \"nb\"])\n",
    "plt.show()"
   ]
  },
  {
   "cell_type": "markdown",
   "metadata": {},
   "source": [
    "## Problem 2"
   ]
  },
  {
   "cell_type": "markdown",
   "metadata": {},
   "source": [
    "Repeat same analysis but with RGB  data converted to Hue  Saturation Value (HSV) format. You can use the `colorsys` module for conversion "
   ]
  },
  {
   "cell_type": "code",
   "execution_count": 50,
   "metadata": {},
   "outputs": [],
   "source": [
    "from colorsys import rgb_to_hsv\n",
    "hsv = np.asarray([rgb_to_hsv(*row) for row in rgb]) #inneficient but it does not matter"
   ]
  },
  {
   "cell_type": "code",
   "execution_count": 51,
   "metadata": {},
   "outputs": [
    {
     "data": {
      "text/html": [
       "<div>\n",
       "<style scoped>\n",
       "    .dataframe tbody tr th:only-of-type {\n",
       "        vertical-align: middle;\n",
       "    }\n",
       "\n",
       "    .dataframe tbody tr th {\n",
       "        vertical-align: top;\n",
       "    }\n",
       "\n",
       "    .dataframe thead th {\n",
       "        text-align: right;\n",
       "    }\n",
       "</style>\n",
       "<table border=\"1\" class=\"dataframe\">\n",
       "  <thead>\n",
       "    <tr style=\"text-align: right;\">\n",
       "      <th></th>\n",
       "      <th>H</th>\n",
       "      <th>S</th>\n",
       "      <th>V</th>\n",
       "      <th>Skin</th>\n",
       "    </tr>\n",
       "  </thead>\n",
       "  <tbody>\n",
       "    <tr>\n",
       "      <th>0</th>\n",
       "      <td>0.629252</td>\n",
       "      <td>0.398374</td>\n",
       "      <td>123.0</td>\n",
       "      <td>1</td>\n",
       "    </tr>\n",
       "    <tr>\n",
       "      <th>1</th>\n",
       "      <td>0.629252</td>\n",
       "      <td>0.401639</td>\n",
       "      <td>122.0</td>\n",
       "      <td>1</td>\n",
       "    </tr>\n",
       "    <tr>\n",
       "      <th>2</th>\n",
       "      <td>0.629252</td>\n",
       "      <td>0.404959</td>\n",
       "      <td>121.0</td>\n",
       "      <td>1</td>\n",
       "    </tr>\n",
       "    <tr>\n",
       "      <th>3</th>\n",
       "      <td>0.629252</td>\n",
       "      <td>0.411765</td>\n",
       "      <td>119.0</td>\n",
       "      <td>1</td>\n",
       "    </tr>\n",
       "    <tr>\n",
       "      <th>4</th>\n",
       "      <td>0.629252</td>\n",
       "      <td>0.411765</td>\n",
       "      <td>119.0</td>\n",
       "      <td>1</td>\n",
       "    </tr>\n",
       "  </tbody>\n",
       "</table>\n",
       "</div>"
      ],
      "text/plain": [
       "          H         S      V  Skin\n",
       "0  0.629252  0.398374  123.0     1\n",
       "1  0.629252  0.401639  122.0     1\n",
       "2  0.629252  0.404959  121.0     1\n",
       "3  0.629252  0.411765  119.0     1\n",
       "4  0.629252  0.411765  119.0     1"
      ]
     },
     "execution_count": 51,
     "metadata": {},
     "output_type": "execute_result"
    }
   ],
   "source": [
    "#Oversampling unbalanced classes\n",
    "ros = RandomOverSampler()\n",
    "X_resampled_hsv, y_resampled_hsv = ros.fit_resample(hsv, lbl)\n",
    "df_hsv = pd.DataFrame(X_resampled_hsv, columns = ['H', 'S', 'V'])\n",
    "y_hsv = pd.DataFrame(y_resampled_hsv, columns = ['Skin'])\n",
    "df_hsv = df_hsv.join(y_hsv)\n",
    "df_hsv.head()"
   ]
  },
  {
   "cell_type": "code",
   "execution_count": 52,
   "metadata": {},
   "outputs": [],
   "source": [
    "#Train test split\n",
    "X_train_hsv, X_test_hsv, y_train_hsv, y_test_hsv = train_test_split(X_resampled_hsv, y_resampled_hsv)"
   ]
  },
  {
   "cell_type": "code",
   "execution_count": 53,
   "metadata": {},
   "outputs": [
    {
     "data": {
      "text/html": [
       "<div>\n",
       "<style scoped>\n",
       "    .dataframe tbody tr th:only-of-type {\n",
       "        vertical-align: middle;\n",
       "    }\n",
       "\n",
       "    .dataframe tbody tr th {\n",
       "        vertical-align: top;\n",
       "    }\n",
       "\n",
       "    .dataframe thead th {\n",
       "        text-align: right;\n",
       "    }\n",
       "</style>\n",
       "<table border=\"1\" class=\"dataframe\">\n",
       "  <thead>\n",
       "    <tr style=\"text-align: right;\">\n",
       "      <th></th>\n",
       "      <th>tnr</th>\n",
       "      <th>fnr</th>\n",
       "      <th>fpr</th>\n",
       "      <th>tpr</th>\n",
       "      <th>precision</th>\n",
       "      <th>f1</th>\n",
       "      <th>auc</th>\n",
       "    </tr>\n",
       "  </thead>\n",
       "  <tbody>\n",
       "    <tr>\n",
       "      <th>lda</th>\n",
       "      <td>1.000000</td>\n",
       "      <td>0.112775</td>\n",
       "      <td>0.000000</td>\n",
       "      <td>0.887225</td>\n",
       "      <td>0.898193</td>\n",
       "      <td>0.946367</td>\n",
       "      <td>0.943612</td>\n",
       "    </tr>\n",
       "    <tr>\n",
       "      <th>qda</th>\n",
       "      <td>0.991843</td>\n",
       "      <td>0.006143</td>\n",
       "      <td>0.008157</td>\n",
       "      <td>0.993857</td>\n",
       "      <td>0.993813</td>\n",
       "      <td>0.992827</td>\n",
       "      <td>0.992850</td>\n",
       "    </tr>\n",
       "    <tr>\n",
       "      <th>nb</th>\n",
       "      <td>0.834201</td>\n",
       "      <td>0.053582</td>\n",
       "      <td>0.165799</td>\n",
       "      <td>0.946418</td>\n",
       "      <td>0.939793</td>\n",
       "      <td>0.883854</td>\n",
       "      <td>0.890309</td>\n",
       "    </tr>\n",
       "  </tbody>\n",
       "</table>\n",
       "</div>"
      ],
      "text/plain": [
       "          tnr       fnr       fpr       tpr  precision        f1       auc\n",
       "lda  1.000000  0.112775  0.000000  0.887225   0.898193  0.946367  0.943612\n",
       "qda  0.991843  0.006143  0.008157  0.993857   0.993813  0.992827  0.992850\n",
       "nb   0.834201  0.053582  0.165799  0.946418   0.939793  0.883854  0.890309"
      ]
     },
     "execution_count": 53,
     "metadata": {},
     "output_type": "execute_result"
    }
   ],
   "source": [
    "#Analysis\n",
    "summary_hsv = pd.DataFrame()\n",
    "\n",
    "model_lda = LinearDiscriminantAnalysis()\n",
    "analize_lda_hsv = analize(model_lda, \"lda\", X_train_hsv, y_train_hsv, X_test_hsv, y_test_hsv)\n",
    "summary_hsv = summary_hsv.append(analize_lda_hsv[0])\n",
    "\n",
    "model_qda = QuadraticDiscriminantAnalysis()\n",
    "analize_qda_hsv = analize(model_qda, \"qda\", X_train_hsv, y_train_hsv, X_test_hsv, y_test_hsv)\n",
    "summary_hsv = summary_hsv.append(analize_qda_hsv[0])\n",
    "\n",
    "model_NB = GaussianNB()\n",
    "analize_NB_hsv = analize(model_NB, \"nb\", X_train_hsv, y_train_hsv, X_test_hsv, y_test_hsv)\n",
    "summary_hsv = summary_hsv.append(analize_NB[0])\n",
    "\n",
    "summary_hsv"
   ]
  },
  {
   "cell_type": "code",
   "execution_count": 54,
   "metadata": {},
   "outputs": [
    {
     "data": {
      "image/png": "[encoded data removed]",
      "text/plain": [
       "<Figure size 1008x720 with 1 Axes>"
      ]
     },
     "metadata": {
      "needs_background": "light"
     },
     "output_type": "display_data"
    }
   ],
   "source": [
    "#ROC curves\n",
    "plt.figure(figsize = (14, 10))\n",
    "plt.plot(analize_lda_hsv[2], analize_lda_hsv[1])\n",
    "plt.plot(analize_qda_hsv[2], analize_qda_hsv[1], color = 'red')\n",
    "plt.plot(analize_NB_hsv[2], analize_NB_hsv[1], color = 'green')\n",
    "plt.legend([\"lda\", \"qda\", \"nb\"])\n",
    "plt.show()"
   ]
  },
  {
   "cell_type": "code",
   "execution_count": null,
   "metadata": {},
   "outputs": [],
   "source": []
  }
 ],
 "metadata": {
  "jupytext": {
   "text_representation": {
    "extension": ".Rmd",
    "format_name": "rmarkdown",
    "format_version": "1.2",
    "jupytext_version": "1.4.1"
   }
  },
  "kernelspec": {
   "display_name": "Python 3",
   "language": "python",
   "name": "python3"
  },
  "language_info": {
   "codemirror_mode": {
    "name": "ipython",
    "version": 3
   },
   "file_extension": ".py",
   "mimetype": "text/x-python",
   "name": "python",
   "nbconvert_exporter": "python",
   "pygments_lexer": "ipython3",
   "version": "3.7.3"
  }
 },
 "nbformat": 4,
 "nbformat_minor": 4
}
