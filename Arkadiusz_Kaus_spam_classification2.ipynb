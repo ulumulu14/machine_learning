{
 "cells": [
  {
   "cell_type": "markdown",
   "metadata": {},
   "source": [
    "# Spam/ham classification"
   ]
  },
  {
   "cell_type": "markdown",
   "metadata": {},
   "source": [
    "In this assignment you will train a classifier to recognise spam emails. The data was taken from this [enron spam](https://www.kaggle.com/wanderfj/enron-spam)  kaggle dataset. The dataset is described [here](https://www.researchgate.net/publication/221650814_Spam_Filtering_with_Naive_Bayes_-_Which_Naive_Bayes). This will familiarize you with tools  for text analysis  from  the scikit-learn library. \n",
    "\n",
    "The data is provided as a zip archive \"enron_spam.zip\". You can unpack it with command `unzip enron_spam.zip` which will create a directory `data`. "
   ]
  },
  {
   "cell_type": "markdown",
   "metadata": {},
   "source": [
    "The data  consists of 6 batches of emails. Each batch corresponds to different person and different spam source. Each batch is stored in different subdirectory of `data` named `Enron_1` to `Enron_6`. Each email is stored in separate file :( Spam and ham emails are stored in different subdirectories. Fortunatelly the scikit-learn library provides a functiona `load_files` that can read data in this format. "
   ]
  },
  {
   "cell_type": "code",
   "execution_count": 127,
   "metadata": {},
   "outputs": [],
   "source": [
    "import numpy as np\n",
    "import pandas as pd\n",
    "import matplotlib.pyplot as plt\n",
    "from sklearn.datasets import load_files\n",
    "from sklearn.feature_extraction.text import CountVectorizer\n",
    "from sklearn.model_selection import train_test_split\n",
    "from sklearn.naive_bayes import MultinomialNB\n",
    "from sklearn.metrics import plot_confusion_matrix\n",
    "from sklearn.metrics import confusion_matrix\n",
    "from sklearn.metrics import recall_score\n",
    "from sklearn.metrics import precision_score\n",
    "from sklearn.metrics import roc_curve\n",
    "from sklearn.metrics import roc_auc_score\n",
    "from sklearn.metrics import confusion_matrix\n",
    "import itertools"
   ]
  },
  {
   "cell_type": "markdown",
   "metadata": {},
   "source": [
    "You can load data from given batch using the function"
   ]
  },
  {
   "cell_type": "code",
   "execution_count": 128,
   "metadata": {},
   "outputs": [],
   "source": [
    "data1 = load_files('enron_spam/data/Enron_1/', encoding='latin-1', shuffle=True, categories=['ham', 'spam'] )"
   ]
  },
  {
   "cell_type": "markdown",
   "metadata": {},
   "source": [
    "It returns a python dictionary. The entry 'data' contains the data from files and the entry 'target' contains the labels assigned according to the subdirectory names. The labels are integers and corresponding names can be found in the entry 'target_names'."
   ]
  },
  {
   "cell_type": "code",
   "execution_count": 129,
   "metadata": {},
   "outputs": [
    {
     "data": {
      "text/plain": [
       "4137"
      ]
     },
     "execution_count": 129,
     "metadata": {},
     "output_type": "execute_result"
    }
   ],
   "source": [
    "len(data1['data'])"
   ]
  },
  {
   "cell_type": "code",
   "execution_count": 4,
   "metadata": {},
   "outputs": [
    {
     "data": {
      "text/plain": [
       "[\"Subject: re : cornhusker deal\\r\\nrita ,\\r\\nthings have been changing daily on this thing , so we were waiting to get it\\r\\nall figured out .\\r\\ni did tell mark mccoy to handle this , and he is going to get you all the\\r\\ninformation right after\\r\\nthe long weekend . hope this helps . pat\\r\\nrita wynne @ ect\\r\\n08 / 31 / 2000 05 : 25 pm\\r\\nto : pat clynes / corp / enron @ enron , daren j farmer / hou / ect @ ect\\r\\ncc :\\r\\nsubject : cornhusker deal\\r\\nhey guys ,\\r\\ni need to be bought up to speed on the cornhusker deal . i don ' t know what\\r\\nthe impact is to my group or what we should expect to see in terms of\\r\\nallocations or settlements . any info . either of you can provide would be\\r\\nappreciated . thanks and have a great holiday !\",\n",
       " 'Subject: enron / hpl actuals for sept . 18 , 2000\\r\\nls hpl lsk ic 2 . 500 / enron']"
      ]
     },
     "execution_count": 4,
     "metadata": {},
     "output_type": "execute_result"
    }
   ],
   "source": [
    "data1['data'][:2]"
   ]
  },
  {
   "cell_type": "code",
   "execution_count": 5,
   "metadata": {},
   "outputs": [
    {
     "data": {
      "text/plain": [
       "4137"
      ]
     },
     "execution_count": 5,
     "metadata": {},
     "output_type": "execute_result"
    }
   ],
   "source": [
    "len(data1['target'])"
   ]
  },
  {
   "cell_type": "code",
   "execution_count": 6,
   "metadata": {},
   "outputs": [
    {
     "data": {
      "text/plain": [
       "array([0, 0])"
      ]
     },
     "execution_count": 6,
     "metadata": {},
     "output_type": "execute_result"
    }
   ],
   "source": [
    "data1['target'][:2]"
   ]
  },
  {
   "cell_type": "code",
   "execution_count": 7,
   "metadata": {},
   "outputs": [
    {
     "data": {
      "text/plain": [
       "['ham', 'spam']"
      ]
     },
     "execution_count": 7,
     "metadata": {},
     "output_type": "execute_result"
    }
   ],
   "source": [
    "data1['target_names']"
   ]
  },
  {
   "cell_type": "markdown",
   "metadata": {},
   "source": [
    "## Problems "
   ]
  },
  {
   "cell_type": "markdown",
   "metadata": {},
   "source": [
    "1. Train the multinomial bayes classifier using scikit-learn  for the first batch of data in data/Enron_1 as described in text_analysis notebook.\n",
    "    1. Set asside 20% of data for testings and train the multinomial bayes classifier using the remaining 80% of data.This requires  transforming the data to feature vectors using CountVectoriser  from scikit-learn. How big is the resulting vocabulary ? \n",
    "    1. Using the test set \n",
    "        1. Draw the confusion matrix using `plot_confusion_matrix` from scikit-learn (see the latest update of the text_analysis notebook) using the test set. \n",
    "        1. Calculate recall and precision scores. \n",
    "        1. Draw the ROC curve and calculate the AUC score  using the test set. \n",
    "        1. What percentage of valid mails is classified as spam?\n",
    "        1. Assuming that only mails classified as ham are put in our mailbox what percentage of mail in our inbox is spam?\n",
    "        \n",
    "    1. Find ten most probable and least probable words for each class.     \n",
    "    1. Check the classifier on the remaining datasets data/Enron_2-6. For each set calculate recall and precision. \n",
    "    1. Combine all sets.  Train a new classifier on the combined  set, of course after dividing into test and train sets. Redo point B. using this classifier and combined test set. \n",
    "    1. Assumimg that we want to keep the frequency of misclassified ham mails belowe 5 per mile, what would be the percentage of spam in our inbox?\n",
    "   "
   ]
  },
  {
   "cell_type": "markdown",
   "metadata": {},
   "source": [
    "__Hint__ You can create a dataframe from the data using"
   ]
  },
  {
   "cell_type": "code",
   "execution_count": 130,
   "metadata": {},
   "outputs": [],
   "source": [
    "df1 = pd.DataFrame({'text': data1['data'], 'spam': data1['target']})\n",
    "\n",
    "X = df1['text']\n",
    "y = df1['spam']"
   ]
  },
  {
   "cell_type": "code",
   "execution_count": 131,
   "metadata": {},
   "outputs": [
    {
     "data": {
      "text/plain": [
       "0    2937\n",
       "1    1200\n",
       "Name: spam, dtype: int64"
      ]
     },
     "execution_count": 131,
     "metadata": {},
     "output_type": "execute_result"
    }
   ],
   "source": [
    "df1.spam.value_counts()"
   ]
  },
  {
   "cell_type": "code",
   "execution_count": 132,
   "metadata": {},
   "outputs": [
    {
     "data": {
      "text/html": [
       "<div>\n",
       "<style scoped>\n",
       "    .dataframe tbody tr th:only-of-type {\n",
       "        vertical-align: middle;\n",
       "    }\n",
       "\n",
       "    .dataframe tbody tr th {\n",
       "        vertical-align: top;\n",
       "    }\n",
       "\n",
       "    .dataframe thead th {\n",
       "        text-align: right;\n",
       "    }\n",
       "</style>\n",
       "<table border=\"1\" class=\"dataframe\">\n",
       "  <thead>\n",
       "    <tr style=\"text-align: right;\">\n",
       "      <th></th>\n",
       "      <th>text</th>\n",
       "      <th>spam</th>\n",
       "    </tr>\n",
       "  </thead>\n",
       "  <tbody>\n",
       "    <tr>\n",
       "      <th>0</th>\n",
       "      <td>Subject: re : cornhusker deal\\r\\nrita ,\\r\\nthi...</td>\n",
       "      <td>0</td>\n",
       "    </tr>\n",
       "    <tr>\n",
       "      <th>1</th>\n",
       "      <td>Subject: enron / hpl actuals for sept . 18 , 2...</td>\n",
       "      <td>0</td>\n",
       "    </tr>\n",
       "    <tr>\n",
       "      <th>2</th>\n",
       "      <td>Subject: fw : teco / frontera financial trades...</td>\n",
       "      <td>0</td>\n",
       "    </tr>\n",
       "    <tr>\n",
       "      <th>3</th>\n",
       "      <td>Subject: jan . 01 sale to texas general land o...</td>\n",
       "      <td>0</td>\n",
       "    </tr>\n",
       "    <tr>\n",
       "      <th>4</th>\n",
       "      <td>Subject: re : volume increase - hpl meter 68 -...</td>\n",
       "      <td>0</td>\n",
       "    </tr>\n",
       "    <tr>\n",
       "      <th>5</th>\n",
       "      <td>Subject: re : koch midstream services co\\r\\nti...</td>\n",
       "      <td>0</td>\n",
       "    </tr>\n",
       "    <tr>\n",
       "      <th>6</th>\n",
       "      <td>Subject: hpl meter # 981525 texoma d / p - gsu...</td>\n",
       "      <td>0</td>\n",
       "    </tr>\n",
       "    <tr>\n",
       "      <th>7</th>\n",
       "      <td>Subject: buy office xp for fifty bucks percent...</td>\n",
       "      <td>1</td>\n",
       "    </tr>\n",
       "    <tr>\n",
       "      <th>8</th>\n",
       "      <td>Subject: hpl nom for august 15 , 2000\\r\\n( see...</td>\n",
       "      <td>0</td>\n",
       "    </tr>\n",
       "    <tr>\n",
       "      <th>9</th>\n",
       "      <td>Subject: 8 th noms\\r\\n- - - - - - - - - - - - ...</td>\n",
       "      <td>0</td>\n",
       "    </tr>\n",
       "    <tr>\n",
       "      <th>10</th>\n",
       "      <td>Subject: re : deal # 339693 eol waha\\r\\n- - - ...</td>\n",
       "      <td>0</td>\n",
       "    </tr>\n",
       "    <tr>\n",
       "      <th>11</th>\n",
       "      <td>Subject: hpl nomination for 02 / 23 / 2000\\r\\n...</td>\n",
       "      <td>0</td>\n",
       "    </tr>\n",
       "    <tr>\n",
       "      <th>12</th>\n",
       "      <td>Subject: eastrans nominations changes effectiv...</td>\n",
       "      <td>0</td>\n",
       "    </tr>\n",
       "    <tr>\n",
       "      <th>13</th>\n",
       "      <td>Subject: xa . nax &amp; alprazolam cheap\\r\\nmessag...</td>\n",
       "      <td>1</td>\n",
       "    </tr>\n",
       "    <tr>\n",
       "      <th>14</th>\n",
       "      <td>Subject: txu noms . for 11 / 18 - 20 / 00\\r\\nw...</td>\n",
       "      <td>0</td>\n",
       "    </tr>\n",
       "  </tbody>\n",
       "</table>\n",
       "</div>"
      ],
      "text/plain": [
       "                                                 text  spam\n",
       "0   Subject: re : cornhusker deal\\r\\nrita ,\\r\\nthi...     0\n",
       "1   Subject: enron / hpl actuals for sept . 18 , 2...     0\n",
       "2   Subject: fw : teco / frontera financial trades...     0\n",
       "3   Subject: jan . 01 sale to texas general land o...     0\n",
       "4   Subject: re : volume increase - hpl meter 68 -...     0\n",
       "5   Subject: re : koch midstream services co\\r\\nti...     0\n",
       "6   Subject: hpl meter # 981525 texoma d / p - gsu...     0\n",
       "7   Subject: buy office xp for fifty bucks percent...     1\n",
       "8   Subject: hpl nom for august 15 , 2000\\r\\n( see...     0\n",
       "9   Subject: 8 th noms\\r\\n- - - - - - - - - - - - ...     0\n",
       "10  Subject: re : deal # 339693 eol waha\\r\\n- - - ...     0\n",
       "11  Subject: hpl nomination for 02 / 23 / 2000\\r\\n...     0\n",
       "12  Subject: eastrans nominations changes effectiv...     0\n",
       "13  Subject: xa . nax & alprazolam cheap\\r\\nmessag...     1\n",
       "14  Subject: txu noms . for 11 / 18 - 20 / 00\\r\\nw...     0"
      ]
     },
     "execution_count": 132,
     "metadata": {},
     "output_type": "execute_result"
    }
   ],
   "source": [
    "df1.head(15)"
   ]
  },
  {
   "cell_type": "code",
   "execution_count": 84,
   "metadata": {},
   "outputs": [
    {
     "data": {
      "text/plain": [
       "False"
      ]
     },
     "execution_count": 84,
     "metadata": {},
     "output_type": "execute_result"
    }
   ],
   "source": [
    "#check for empty data\n",
    "df1.isnull().values.any()"
   ]
  },
  {
   "cell_type": "code",
   "execution_count": 133,
   "metadata": {},
   "outputs": [],
   "source": [
    "def remove_punctuation(text):\n",
    "    import string\n",
    "    translator = str.maketrans('', '', string.punctuation)\n",
    "    return text.translate(translator)"
   ]
  },
  {
   "cell_type": "code",
   "execution_count": 134,
   "metadata": {},
   "outputs": [],
   "source": [
    "#remove punctuation\n",
    "df1[\"text\"] = df1[\"text\"].astype(str)\n",
    "df1[\"text\"] = df1[\"text\"].map(lambda x: remove_punctuation(x))"
   ]
  },
  {
   "cell_type": "code",
   "execution_count": 135,
   "metadata": {},
   "outputs": [],
   "source": [
    "#split and train CountVectorizer\n",
    "X = df1['text']\n",
    "y = df1['spam']\n",
    "\n",
    "X_train, X_test, y_train, y_test = train_test_split(X, y, test_size = 0.2, random_state = 14)\n",
    "\n",
    "vectorizer = CountVectorizer()\n",
    "X_train = vectorizer.fit_transform(X_train)\n",
    "X_test = vectorizer.transform(X_test)"
   ]
  },
  {
   "cell_type": "code",
   "execution_count": 109,
   "metadata": {},
   "outputs": [
    {
     "data": {
      "text/plain": [
       "37778"
      ]
     },
     "execution_count": 109,
     "metadata": {},
     "output_type": "execute_result"
    }
   ],
   "source": [
    "len(vectorizer.get_feature_names())"
   ]
  },
  {
   "cell_type": "code",
   "execution_count": 136,
   "metadata": {},
   "outputs": [
    {
     "data": {
      "text/plain": [
       "MultinomialNB(alpha=1.0, class_prior=None, fit_prior=True)"
      ]
     },
     "execution_count": 136,
     "metadata": {},
     "output_type": "execute_result"
    }
   ],
   "source": [
    "#train model\n",
    "model = MultinomialNB()\n",
    "model.fit(X_train, y_train)"
   ]
  },
  {
   "cell_type": "code",
   "execution_count": 137,
   "metadata": {
    "scrolled": false
   },
   "outputs": [
    {
     "data": {
      "text/plain": [
       "<sklearn.metrics._plot.confusion_matrix.ConfusionMatrixDisplay at 0x7f471e7351d0>"
      ]
     },
     "execution_count": 137,
     "metadata": {},
     "output_type": "execute_result"
    },
    {
     "data": {
      "image/png": "[encoded data removed]",
      "text/plain": [
       "<Figure size 432x288 with 2 Axes>"
      ]
     },
     "metadata": {
      "needs_background": "light"
     },
     "output_type": "display_data"
    }
   ],
   "source": [
    "#plot confusion matrix\n",
    "plot_confusion_matrix(model, X_test, y_test, normalize = 'true')"
   ]
  },
  {
   "cell_type": "code",
   "execution_count": 138,
   "metadata": {},
   "outputs": [
    {
     "name": "stdout",
     "output_type": "stream",
     "text": [
      "Model precision: 0.9563492063492064\n",
      "Model recall score: 0.964\n"
     ]
    }
   ],
   "source": [
    "#score\n",
    "y_pred = model.predict(X_test)\n",
    "print(\"Model precision: {}\".format(precision_score(y_test, y_pred)))\n",
    "print(\"Model recall score: {}\".format(recall_score(y_test, y_pred)))"
   ]
  },
  {
   "cell_type": "code",
   "execution_count": 139,
   "metadata": {},
   "outputs": [
    {
     "data": {
      "image/png": "[encoded data removed]",
      "text/plain": [
       "<Figure size 1008x720 with 1 Axes>"
      ]
     },
     "metadata": {
      "needs_background": "light"
     },
     "output_type": "display_data"
    },
    {
     "name": "stdout",
     "output_type": "stream",
     "text": [
      "ROC AUC score = 0.972484429065744\n"
     ]
    }
   ],
   "source": [
    "#ROC curve and AUC\n",
    "y_proba = model.predict_proba(X_test)[:, 1]\n",
    "fpr, tpr, thresholds = roc_curve(y_test, y_proba)\n",
    "plt.figure(figsize = (14, 10))\n",
    "plt.plot(fpr, tpr)\n",
    "plt.show()\n",
    "\n",
    "print(\"ROC AUC score = {}\".format(roc_auc_score(y_test, y_pred)))"
   ]
  },
  {
   "cell_type": "code",
   "execution_count": 140,
   "metadata": {},
   "outputs": [
    {
     "name": "stdout",
     "output_type": "stream",
     "text": [
      "0.01903114186851211 of valid mails are classified as spam.\n",
      "0.036 of spam go trough the spam filter.\n"
     ]
    }
   ],
   "source": [
    "tn, fp, fn, tp = confusion_matrix(y_test, y_pred, normalize = 'true').ravel()\n",
    "print(\"{} of valid mails are classified as spam.\".format(fp))\n",
    "print(\"{} of spam go trough the spam filter.\".format(fn))"
   ]
  },
  {
   "cell_type": "code",
   "execution_count": 141,
   "metadata": {},
   "outputs": [
    {
     "name": "stdout",
     "output_type": "stream",
     "text": [
      "Not spam most probable words:\n",
      "\n",
      "[('the', 14680), ('to', 12027), ('ect', 10786), ('for', 6336), ('and', 6335), ('hou', 5657), ('subject', 5090), ('enron', 4882), ('on', 4867), ('of', 4468)]\n",
      "\n",
      "Not spam least probable words:\n",
      "\n",
      "[('tingleaf', 1), ('fedexed', 1), ('assigning', 1), ('refence', 1), ('substaintial', 1), ('btw', 1), ('981525', 1), ('gsu', 1), ('1072', 1), ('5020', 1)]\n",
      "\n",
      "Spam most probable words:\n",
      "\n",
      "[('the', 5897), ('to', 4096), ('and', 3929), ('of', 3691), ('in', 2526), ('you', 2194), ('for', 2050), ('this', 1837), ('is', 1819), ('your', 1566)]\n",
      "\n",
      "Spam least probable words:\n",
      "\n",
      "[('titleaxis', 1), ('eureka', 1), ('titlestyletd', 1), ('tahoma', 1), ('whitetable', 1), ('lefttrtd', 1), ('bmicrosoft', 1), ('trtr', 1), ('tdbrtable', 1), ('afio', 1)]\n"
     ]
    }
   ],
   "source": [
    "not_spam = df1.loc[df1[\"spam\"] == 0]\n",
    "spam = df1.loc[df1[\"spam\"] == 1]\n",
    "vec = CountVectorizer()\n",
    "\n",
    "X_not_spam = not_spam[\"text\"]\n",
    "X_not_spam = vec.fit_transform(X_not_spam)\n",
    "\n",
    "sum_not_spam_words = X_not_spam.sum(axis=0)\n",
    "not_spam_word_freq = [(word, sum_not_spam_words[0, i]) for word, i in vec.vocabulary_.items()]\n",
    "not_spam_top_words = sorted(not_spam_word_freq, key = lambda x: x[1], reverse = True)\n",
    "not_spam_bott_words = sorted(not_spam_word_freq, key = lambda x: x[1], reverse = False)\n",
    "\n",
    "print(\"Not spam most probable words:\\n\")\n",
    "print(not_spam_top_words[:10])\n",
    "print(\"\\nNot spam least probable words:\\n\")\n",
    "print(not_spam_bott_words[:10])\n",
    "\n",
    "\n",
    "vec = CountVectorizer()\n",
    "X_spam = spam[\"text\"]\n",
    "X_spam = vec.fit_transform(X_spam)\n",
    "\n",
    "sum_spam_words = X_spam.sum(axis=0)\n",
    "spam_word_freq = [(word, sum_spam_words[0, i]) for word, i in vec.vocabulary_.items()]\n",
    "spam_top_words = sorted(spam_word_freq, key = lambda x: x[1], reverse = True)\n",
    "spam_bott_words = sorted(spam_word_freq, key = lambda x: x[1], reverse = False)\n",
    "\n",
    "print(\"\\nSpam most probable words:\\n\")\n",
    "print(spam_top_words[:10])\n",
    "print(\"\\nSpam least probable words:\\n\")\n",
    "print(spam_bott_words[:10])"
   ]
  },
  {
   "cell_type": "code",
   "execution_count": 70,
   "metadata": {},
   "outputs": [],
   "source": [
    "#in both spam and not spam most probable words are words like 'the', 'to', 'and' which are\n",
    "#pretty common in english language in general so they basically give us no information\n",
    "#we should use Tfidf vectorizer to get rid of those common words"
   ]
  },
  {
   "cell_type": "code",
   "execution_count": 142,
   "metadata": {},
   "outputs": [
    {
     "name": "stdout",
     "output_type": "stream",
     "text": [
      "data2\n",
      "Model precision: 0.9748953974895398\n",
      "Model recall score: 0.9872881355932204\n",
      "data3\n",
      "Model precision: 0.9880952380952381\n",
      "Model recall score: 0.97265625\n",
      "data4\n",
      "Model precision: 0.9758713136729222\n",
      "Model recall score: 0.994535519125683\n",
      "data5\n",
      "Model precision: 0.9929701230228472\n",
      "Model recall score: 0.9982332155477032\n",
      "data6\n",
      "Model precision: 0.9860529986052998\n",
      "Model recall score: 0.9819444444444444\n"
     ]
    }
   ],
   "source": [
    "combined_df = df1\n",
    "\n",
    "for i in range(2, 7):\n",
    "    print(\"data{}\".format(i))\n",
    "    data = load_files('enron_spam/data/Enron_{}/'.format(i), encoding='latin-1', shuffle=True, categories=['ham', 'spam'] )\n",
    "    df = pd.DataFrame({'text': data['data'], 'spam': data['target']})\n",
    "    df[\"text\"] = df[\"text\"].astype(str)\n",
    "    df[\"text\"] = df[\"text\"].map(lambda x: remove_punctuation(x))\n",
    "\n",
    "    X = df['text']\n",
    "    y = df['spam']\n",
    "\n",
    "    X_train, X_test, y_train, y_test = train_test_split(X, y, test_size = 0.2, random_state = 14)\n",
    "\n",
    "    vectorizer = CountVectorizer()\n",
    "    X_train = vectorizer.fit_transform(X_train)\n",
    "    X_test = vectorizer.transform(X_test)\n",
    "\n",
    "    model.fit(X_train, y_train)\n",
    "    y_pred = model.predict(X_test)\n",
    "    \n",
    "    combined = pd.concat([combined_df, df], axis=0, ignore_index = True)\n",
    "    \n",
    "    print(\"Model precision: {}\".format(precision_score(y_test, y_pred)))\n",
    "    print(\"Model recall score: {}\".format(recall_score(y_test, y_pred)))"
   ]
  },
  {
   "cell_type": "code",
   "execution_count": 143,
   "metadata": {},
   "outputs": [
    {
     "data": {
      "text/html": [
       "<div>\n",
       "<style scoped>\n",
       "    .dataframe tbody tr th:only-of-type {\n",
       "        vertical-align: middle;\n",
       "    }\n",
       "\n",
       "    .dataframe tbody tr th {\n",
       "        vertical-align: top;\n",
       "    }\n",
       "\n",
       "    .dataframe thead th {\n",
       "        text-align: right;\n",
       "    }\n",
       "</style>\n",
       "<table border=\"1\" class=\"dataframe\">\n",
       "  <thead>\n",
       "    <tr style=\"text-align: right;\">\n",
       "      <th></th>\n",
       "      <th>text</th>\n",
       "      <th>spam</th>\n",
       "    </tr>\n",
       "  </thead>\n",
       "  <tbody>\n",
       "    <tr>\n",
       "      <th>0</th>\n",
       "      <td>Subject re  cornhusker deal\\r\\nrita \\r\\nthings...</td>\n",
       "      <td>0</td>\n",
       "    </tr>\n",
       "    <tr>\n",
       "      <th>1</th>\n",
       "      <td>Subject enron  hpl actuals for sept  18  2000\\...</td>\n",
       "      <td>0</td>\n",
       "    </tr>\n",
       "    <tr>\n",
       "      <th>2</th>\n",
       "      <td>Subject fw  teco  frontera financial trades\\r\\...</td>\n",
       "      <td>0</td>\n",
       "    </tr>\n",
       "    <tr>\n",
       "      <th>3</th>\n",
       "      <td>Subject jan  01 sale to texas general land off...</td>\n",
       "      <td>0</td>\n",
       "    </tr>\n",
       "    <tr>\n",
       "      <th>4</th>\n",
       "      <td>Subject re  volume increase  hpl meter 68  629...</td>\n",
       "      <td>0</td>\n",
       "    </tr>\n",
       "    <tr>\n",
       "      <th>...</th>\n",
       "      <td>...</td>\n",
       "      <td>...</td>\n",
       "    </tr>\n",
       "    <tr>\n",
       "      <th>4132</th>\n",
       "      <td>Subject calpine daily gas nomination\\r\\n\\r\\nri...</td>\n",
       "      <td>0</td>\n",
       "    </tr>\n",
       "    <tr>\n",
       "      <th>4133</th>\n",
       "      <td>Subject please confirm your interest \\r\\nmy de...</td>\n",
       "      <td>1</td>\n",
       "    </tr>\n",
       "    <tr>\n",
       "      <th>4134</th>\n",
       "      <td>Subject revised october avails \\r\\ni have been...</td>\n",
       "      <td>0</td>\n",
       "    </tr>\n",
       "    <tr>\n",
       "      <th>4135</th>\n",
       "      <td>Subject re  tuesday  december 26 th\\r\\ni  ll b...</td>\n",
       "      <td>0</td>\n",
       "    </tr>\n",
       "    <tr>\n",
       "      <th>4136</th>\n",
       "      <td>Subject tenaska iv 4  01\\r\\nwe need to change ...</td>\n",
       "      <td>0</td>\n",
       "    </tr>\n",
       "  </tbody>\n",
       "</table>\n",
       "<p>4137 rows × 2 columns</p>\n",
       "</div>"
      ],
      "text/plain": [
       "                                                   text  spam\n",
       "0     Subject re  cornhusker deal\\r\\nrita \\r\\nthings...     0\n",
       "1     Subject enron  hpl actuals for sept  18  2000\\...     0\n",
       "2     Subject fw  teco  frontera financial trades\\r\\...     0\n",
       "3     Subject jan  01 sale to texas general land off...     0\n",
       "4     Subject re  volume increase  hpl meter 68  629...     0\n",
       "...                                                 ...   ...\n",
       "4132  Subject calpine daily gas nomination\\r\\n\\r\\nri...     0\n",
       "4133  Subject please confirm your interest \\r\\nmy de...     1\n",
       "4134  Subject revised october avails \\r\\ni have been...     0\n",
       "4135  Subject re  tuesday  december 26 th\\r\\ni  ll b...     0\n",
       "4136  Subject tenaska iv 4  01\\r\\nwe need to change ...     0\n",
       "\n",
       "[4137 rows x 2 columns]"
      ]
     },
     "execution_count": 143,
     "metadata": {},
     "output_type": "execute_result"
    }
   ],
   "source": [
    "combined_df"
   ]
  },
  {
   "cell_type": "code",
   "execution_count": 96,
   "metadata": {},
   "outputs": [
    {
     "data": {
      "text/plain": [
       "False"
      ]
     },
     "execution_count": 96,
     "metadata": {},
     "output_type": "execute_result"
    }
   ],
   "source": [
    "combined_df.isnull().values.any()"
   ]
  },
  {
   "cell_type": "code",
   "execution_count": 144,
   "metadata": {},
   "outputs": [],
   "source": [
    "#remove punctuation\n",
    "combined_df[\"text\"] = combined_df[\"text\"].astype(str)\n",
    "combined_df[\"text\"] = combined_df[\"text\"].map(lambda x: remove_punctuation(x))"
   ]
  },
  {
   "cell_type": "code",
   "execution_count": 148,
   "metadata": {},
   "outputs": [],
   "source": [
    "#split and train CountVectorizer\n",
    "X_combined = combined_df['text']\n",
    "y_combined = combined_df['spam']\n",
    "\n",
    "X_train, X_test, y_train, y_test = train_test_split(X_combined, y_combined, test_size = 0.2, random_state = 14)\n",
    "\n",
    "vectorizer = CountVectorizer()\n",
    "X_train = vectorizer.fit_transform(X_train)\n",
    "X_test = vectorizer.transform(X_test)"
   ]
  },
  {
   "cell_type": "code",
   "execution_count": 149,
   "metadata": {},
   "outputs": [
    {
     "data": {
      "text/plain": [
       "MultinomialNB(alpha=1.0, class_prior=None, fit_prior=True)"
      ]
     },
     "execution_count": 149,
     "metadata": {},
     "output_type": "execute_result"
    }
   ],
   "source": [
    "#train model\n",
    "model = MultinomialNB()\n",
    "model.fit(X_train, y_train)"
   ]
  },
  {
   "cell_type": "code",
   "execution_count": 150,
   "metadata": {},
   "outputs": [
    {
     "data": {
      "text/plain": [
       "<sklearn.metrics._plot.confusion_matrix.ConfusionMatrixDisplay at 0x7f471fdeb5c0>"
      ]
     },
     "execution_count": 150,
     "metadata": {},
     "output_type": "execute_result"
    },
    {
     "data": {
      "image/png": "[encoded data removed]",
      "text/plain": [
       "<Figure size 432x288 with 2 Axes>"
      ]
     },
     "metadata": {
      "needs_background": "light"
     },
     "output_type": "display_data"
    }
   ],
   "source": [
    "#plot confusion matrix\n",
    "plot_confusion_matrix(model, X_test, y_test, normalize = 'true')"
   ]
  },
  {
   "cell_type": "code",
   "execution_count": 152,
   "metadata": {},
   "outputs": [
    {
     "name": "stdout",
     "output_type": "stream",
     "text": [
      "Model precision: 0.9563492063492064\n",
      "Model recall score: 0.964\n"
     ]
    }
   ],
   "source": [
    "#score\n",
    "y_pred = model.predict(X_test)\n",
    "print(\"Model precision: {}\".format(precision_score(y_test, y_pred)))\n",
    "print(\"Model recall score: {}\".format(recall_score(y_test, y_pred)))"
   ]
  },
  {
   "cell_type": "code",
   "execution_count": 154,
   "metadata": {},
   "outputs": [
    {
     "data": {
      "image/png": "[encoded data removed]",
      "text/plain": [
       "<Figure size 1008x720 with 1 Axes>"
      ]
     },
     "metadata": {
      "needs_background": "light"
     },
     "output_type": "display_data"
    },
    {
     "name": "stdout",
     "output_type": "stream",
     "text": [
      "ROC AUC score = 0.972484429065744\n"
     ]
    }
   ],
   "source": [
    "#ROC curve and AUC\n",
    "y_proba = model.predict_proba(X_test)[:, 1]\n",
    "fpr, tpr, thresholds = roc_curve(y_test, y_proba)\n",
    "plt.figure(figsize = (14, 10))\n",
    "plt.plot(fpr, tpr)\n",
    "plt.show()\n",
    "\n",
    "print(\"ROC AUC score = {}\".format(roc_auc_score(y_test, y_pred)))"
   ]
  },
  {
   "cell_type": "code",
   "execution_count": null,
   "metadata": {},
   "outputs": [],
   "source": []
  }
 ],
 "metadata": {
  "kernelspec": {
   "display_name": "Python 3",
   "language": "python",
   "name": "python3"
  },
  "language_info": {
   "codemirror_mode": {
    "name": "ipython",
    "version": 3
   },
   "file_extension": ".py",
   "mimetype": "text/x-python",
   "name": "python",
   "nbconvert_exporter": "python",
   "pygments_lexer": "ipython3",
   "version": "3.7.3"
  }
 },
 "nbformat": 4,
 "nbformat_minor": 4
}
